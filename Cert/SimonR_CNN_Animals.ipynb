{
  "nbformat": 4,
  "nbformat_minor": 0,
  "metadata": {
    "colab": {
      "name": "SimonR_CNN_Animals.ipynb",
      "version": "0.3.2",
      "provenance": [],
      "collapsed_sections": []
    },
    "kernelspec": {
      "name": "python3",
      "display_name": "Python 3"
    },
    "accelerator": "GPU"
  },
  "cells": [
    {
      "metadata": {
        "id": "cdz3quBW6x-_",
        "colab_type": "text"
      },
      "cell_type": "markdown",
      "source": [
        "Simon Restrepo\n",
        "________________________________________________________________________________________________\n",
        "\n",
        "\n",
        "Utilizar transfer learning para implementar un clasificador de imágenes de animales (21 clases), a partir de las librerías de TensorNets. Las siguientes son las pautas para el desarrollo del algoritmo.\n",
        "\n",
        "Clonar la base de datos H5 desde el repositorio: https://bitbucket.org/Josepamplona212620/animal_data.git\n",
        "\n",
        "Utilizar el modelo VGG16 de TensorNets para usar las salidas como base para el clasificador\n",
        "\n",
        "Usar las salidas de la capa 7 del comando get_middles() como entrada para la siguiente estructura: Conv – Relu - Conv – Relu - Maxpool(stride 2) – Flatten – FC – Relu – FC(salida)\n",
        "\n",
        "Usar kernels de convolución de 3x3 de 512 canales (stride 1), un learning rate de 0.01 y batches de 16 imágenes.\n",
        "\n",
        "Debe adjuntar los archivos .py o ipyb comprimidos en una carpeta."
      ]
    },
    {
      "metadata": {
        "id": "3iZecYZ562kh",
        "colab_type": "code",
        "outputId": "9f6c94db-ce8a-4f78-f482-706ecedba1c4",
        "colab": {
          "base_uri": "https://localhost:8080/",
          "height": 122
        }
      },
      "cell_type": "code",
      "source": [
        "from google.colab import drive\n",
        "drive.mount('/content/drive',force_remount=True)"
      ],
      "execution_count": 1,
      "outputs": [
        {
          "output_type": "stream",
          "text": [
            "Go to this URL in a browser: https://accounts.google.com/o/oauth2/auth?client_id=947318989803-6bn6qk8qdgf4n4g3pfee6491hc0brc4i.apps.googleusercontent.com&redirect_uri=urn%3Aietf%3Awg%3Aoauth%3A2.0%3Aoob&scope=email%20https%3A%2F%2Fwww.googleapis.com%2Fauth%2Fdocs.test%20https%3A%2F%2Fwww.googleapis.com%2Fauth%2Fdrive%20https%3A%2F%2Fwww.googleapis.com%2Fauth%2Fdrive.photos.readonly%20https%3A%2F%2Fwww.googleapis.com%2Fauth%2Fpeopleapi.readonly&response_type=code\n",
            "\n",
            "Enter your authorization code:\n",
            "··········\n",
            "Mounted at /content/drive\n"
          ],
          "name": "stdout"
        }
      ]
    },
    {
      "metadata": {
        "id": "sObaUqEK2JX-",
        "colab_type": "code",
        "colab": {}
      },
      "cell_type": "code",
      "source": [
        "import os\n",
        "os.chdir(\"drive/My Drive/T_learning/animal\")"
      ],
      "execution_count": 0,
      "outputs": []
    },
    {
      "metadata": {
        "id": "wNJAMIdJ17vd",
        "colab_type": "code",
        "outputId": "1a14758d-b45e-4bb9-9e53-992e91a52264",
        "colab": {
          "base_uri": "https://localhost:8080/",
          "height": 102
        }
      },
      "cell_type": "code",
      "source": [
        "!git clone https://bitbucket.org/Josepamplona212620/animal_data.git"
      ],
      "execution_count": 0,
      "outputs": [
        {
          "output_type": "stream",
          "text": [
            "Cloning into 'animal_data'...\n",
            "remote: Counting objects: 8, done.\u001b[K\n",
            "remote: Compressing objects: 100% (4/4), done.\u001b[K\n",
            "remote: Total 8 (delta 0), reused 0 (delta 0)\u001b[K\n",
            "Unpacking objects: 100% (8/8), done.\n"
          ],
          "name": "stdout"
        }
      ]
    },
    {
      "metadata": {
        "id": "z1WVWwsjU_vQ",
        "colab_type": "code",
        "outputId": "d8267561-bc64-4793-ac48-f18a6faec19a",
        "colab": {
          "base_uri": "https://localhost:8080/",
          "height": 187
        }
      },
      "cell_type": "code",
      "source": [
        "!pip install cython\n",
        "!pip install tensornets"
      ],
      "execution_count": 3,
      "outputs": [
        {
          "output_type": "stream",
          "text": [
            "Requirement already satisfied: cython in /usr/local/lib/python3.6/dist-packages (0.29.6)\n",
            "Collecting tensornets\n",
            "\u001b[?25l  Downloading https://files.pythonhosted.org/packages/fc/e3/74e43fe9ab8203cd4ffe97f3943d631a587e2bea651be4f09713993d423f/tensornets-0.4.0.tar.gz (587kB)\n",
            "\u001b[K    100% |████████████████████████████████| 593kB 22.1MB/s \n",
            "\u001b[?25hBuilding wheels for collected packages: tensornets\n",
            "  Building wheel for tensornets (setup.py) ... \u001b[?25ldone\n",
            "\u001b[?25h  Stored in directory: /root/.cache/pip/wheels/0c/ae/7a/6d31e83c89c2b02c13e8f08ee8e20abe71670061e057a6058f\n",
            "Successfully built tensornets\n",
            "Installing collected packages: tensornets\n",
            "Successfully installed tensornets-0.4.0\n"
          ],
          "name": "stdout"
        }
      ]
    },
    {
      "metadata": {
        "id": "LhwtxSrX7jPV",
        "colab_type": "code",
        "outputId": "cea272c7-83ee-4bb6-97de-742fe20890af",
        "colab": {
          "base_uri": "https://localhost:8080/",
          "height": 34
        }
      },
      "cell_type": "code",
      "source": [
        "!ls animal_data"
      ],
      "execution_count": 4,
      "outputs": [
        {
          "output_type": "stream",
          "text": [
            "test_animals.h5  train_animals.h5\n"
          ],
          "name": "stdout"
        }
      ]
    },
    {
      "metadata": {
        "id": "dVNBCRUN5HJK",
        "colab_type": "code",
        "outputId": "a299f08d-5605-4af3-aadd-98694993cb86",
        "colab": {
          "base_uri": "https://localhost:8080/",
          "height": 119
        }
      },
      "cell_type": "code",
      "source": [
        "import h5py\n",
        "import numpy as np\n",
        "\n",
        "# Leer de una base de datos H5\n",
        "with h5py.File('animal_data/train_animals.h5','r') as h5data:\n",
        "\n",
        "    ls=list(h5data.keys())\n",
        "    print(ls)\n",
        "    train_data=np.array(h5data.get('train_set_x')[:])\n",
        "    train_labels=np.array(h5data.get('train_set_y')[:])\n",
        "print(train_data.shape)    \n",
        "print(train_labels.shape) \n",
        "\n",
        "with h5py.File('animal_data/test_animals.h5','r') as h5data:\n",
        "    ls=list(h5data.keys())\n",
        "    print(ls)    \n",
        "    test_data=np.array(h5data.get('test_set_x')[:])\n",
        "    test_labels=np.array(h5data.get('test_set_y')[:])\n",
        "print(test_data.shape)    \n",
        "print(test_labels.shape)  \n"
      ],
      "execution_count": 5,
      "outputs": [
        {
          "output_type": "stream",
          "text": [
            "['train_set_x', 'train_set_y']\n",
            "(1680, 224, 224, 3)\n",
            "(1680, 1)\n",
            "['test_set_x', 'test_set_y']\n",
            "(420, 224, 224, 3)\n",
            "(420, 1)\n"
          ],
          "name": "stdout"
        }
      ]
    },
    {
      "metadata": {
        "id": "KQVqfVgDjMYL",
        "colab_type": "code",
        "outputId": "7c6b9a1f-11ef-404c-c36f-c404314c3172",
        "colab": {
          "base_uri": "https://localhost:8080/",
          "height": 139
        }
      },
      "cell_type": "code",
      "source": [
        "import h5py\n",
        "import matplotlib.pyplot as plt\n",
        "import cv2\n",
        "import numpy as np\n",
        "import tensorflow as tf\n",
        "import tensornets as nets\n",
        "\n",
        "# Hiperparametros\n",
        "training_epochs=10\n",
        "batch_size=16  \n",
        "learning_rate = 0.01\n",
        "display_step=1\n",
        "\n",
        "# Parametros de la red neuronal\n",
        "n_hidden_1 = 1024 # 1st layer number of neurons\n",
        "n_input = 215 # data input (feature shape ?,7,7,2048)\n",
        "n_classes = 21 # total classes\n",
        "\n",
        "X = tf.placeholder(tf.float32, [None, 224, 224, 3])\n",
        "X2 = tf.placeholder(tf.float32, [None, 14, 14, 512])\n",
        "Y = tf.placeholder(\"float\", [None, n_classes])\n",
        "\n",
        "# Cargo el modelo VGG16 de Tensornets, modelo con que se trabajara\n",
        "model = nets.VGG16(X)\n",
        "assert isinstance(model, tf.Tensor)"
      ],
      "execution_count": 6,
      "outputs": [
        {
          "output_type": "stream",
          "text": [
            "WARNING:tensorflow:From /usr/local/lib/python3.6/dist-packages/tensorflow/python/framework/op_def_library.py:263: colocate_with (from tensorflow.python.framework.ops) is deprecated and will be removed in a future version.\n",
            "Instructions for updating:\n",
            "Colocations handled automatically by placer.\n",
            "WARNING:tensorflow:From /usr/local/lib/python3.6/dist-packages/tensorflow/contrib/layers/python/layers/layers.py:1624: flatten (from tensorflow.python.layers.core) is deprecated and will be removed in a future version.\n",
            "Instructions for updating:\n",
            "Use keras.layers.flatten instead.\n"
          ],
          "name": "stdout"
        }
      ]
    },
    {
      "metadata": {
        "id": "h3KKTk4AWcCg",
        "colab_type": "code",
        "colab": {}
      },
      "cell_type": "code",
      "source": [
        "# Hago resize a las imagenes para que queden con su arquitectura\n",
        "def resize_np (np_array):\n",
        "    resized=[]\n",
        "    for i in list(np_array):\n",
        "        larger=cv2.resize(i,(224,224))\n",
        "        resized.append(np.array(larger))\n",
        "    return (np.array(resized).astype(np.float32))\n",
        "\n",
        "# Funcion para cambiar labels a onehot\n",
        "def one_hot_transformation(labels,n_classes):\n",
        "    samples=labels.size\n",
        "    one_hot_labels=np.zeros((samples,n_classes))\n",
        "    for i in range(samples):\n",
        "        one_hot_labels[i,labels[i]]=1\n",
        "    return(one_hot_labels)\n",
        "  \n",
        "X_train=resize_np(train_data)\n",
        "print(X_train.shape)\n",
        "X_test=resize_np(test_data)\n",
        "print(X_test.shape)\n",
        "Y_train=one_hot_transformation(train_labels,n_classes)\n",
        "print(Y_train.shape)\n",
        "Y_test=one_hot_transformation(test_labels,n_classes)\n",
        "print(Y_test.shape)\n",
        "\n",
        "# Normalizo las imagenes\n",
        "X_train = X_train/255\n",
        "X_test = X_test/255\n",
        "\n",
        "\n",
        "# mostrar un ejemplo\n",
        "plt.imshow(X_train[20])"
      ],
      "execution_count": 0,
      "outputs": []
    },
    {
      "metadata": {
        "id": "DhTyY37zlTPt",
        "colab_type": "code",
        "outputId": "aed0e549-9bbd-493a-8d1c-24310787f47a",
        "colab": {
          "base_uri": "https://localhost:8080/",
          "height": 187
        }
      },
      "cell_type": "code",
      "source": [
        "# Imprimo el modelo(solo para ver la arquitectura)\n",
        "model.print_middles()"
      ],
      "execution_count": 0,
      "outputs": [
        {
          "output_type": "stream",
          "text": [
            "Scope: vgg16\n",
            "conv3/1/Relu:0 (?, 56, 56, 256)\n",
            "conv3/2/Relu:0 (?, 56, 56, 256)\n",
            "conv3/3/Relu:0 (?, 56, 56, 256)\n",
            "conv4/1/Relu:0 (?, 28, 28, 512)\n",
            "conv4/2/Relu:0 (?, 28, 28, 512)\n",
            "conv4/3/Relu:0 (?, 28, 28, 512)\n",
            "conv5/1/Relu:0 (?, 14, 14, 512)\n",
            "conv5/2/Relu:0 (?, 14, 14, 512)\n",
            "conv5/3/Relu:0 (?, 14, 14, 512)\n"
          ],
          "name": "stdout"
        }
      ]
    },
    {
      "metadata": {
        "id": "cgFiFDQktoUv",
        "colab_type": "code",
        "colab": {}
      },
      "cell_type": "code",
      "source": [
        "def initialize_parameters():\n",
        "  \n",
        "  tf.set_random_seed(1)\n",
        "\n",
        "  W1 = tf.get_variable('W1',[3,3,512,512],initializer=tf.contrib.layers.xavier_initializer(seed = 0))\n",
        "  W2 = tf.get_variable('W2',[3,3,512,512],initializer=tf.contrib.layers.xavier_initializer(seed = 0))\n",
        "  \n",
        "  \n",
        "  parameters = {\"W1\": W1,\n",
        "                \"W2\": W2}\n",
        "  \n",
        "  return parameters\n",
        "parameters = initialize_parameters()"
      ],
      "execution_count": 0,
      "outputs": []
    },
    {
      "metadata": {
        "id": "u123K4I4tWxJ",
        "colab_type": "code",
        "colab": {}
      },
      "cell_type": "code",
      "source": [
        "# Declaración de los pesos y los bias\n",
        "weights = {'h1': tf.Variable(tf.truncated_normal([n_input, n_hidden_1],stddev=0.1)),\n",
        "           \n",
        "          }\n",
        "biases  = {'b1': tf.Variable(tf.truncated_normal([n_hidden_1],stddev=0.1)),\n",
        "          \n",
        "          }\n",
        "\n",
        "\n",
        "def multilayer_perceptron(x, parameters):\n",
        "    \n",
        "    # Obtención de los pesos desde \"parameters\" \n",
        "    W1 = parameters['W1']\n",
        "    W2 = parameters['W2']\n",
        "\n",
        "    # 1ra CONV2D, padding 'SAME'\n",
        "    \n",
        "    Z1 = tf.nn.conv2d(x,W1,strides=[1,1,1,1],padding='SAME')\n",
        "    \n",
        "    # RELU 1\n",
        "    \n",
        "    A1 = tf.nn.relu(Z1)\n",
        "    \n",
        "    # 2da CONV2D, padding 'SAME'\n",
        "    \n",
        "    Z2 = tf.nn.conv2d(A1,W2,strides=[1,1,1,1],padding='SAME')\n",
        "    \n",
        "    # RELU 2\n",
        "    \n",
        "    A2 = tf.nn.relu(Z2)\n",
        "    \n",
        "    # MAXPOOL: window 2x2, stride 2 padding 'SAME'\n",
        "    \n",
        "    P1 = tf.nn.max_pool(A2,ksize=[1,2,2,1],strides=[1,2,2,1],padding='SAME');\n",
        "    \n",
        "    # FLATTEN\n",
        "    \n",
        "    F = tf.contrib.layers.flatten(P1)  \n",
        "    \n",
        "    # FC con 21 salidas\n",
        "    Z7 = tf.contrib.layers.fully_connected(F,21,None)\n",
        "    \n",
        "    # RELU 3\n",
        "    A2 = tf.nn.relu(Z7)\n",
        "    \n",
        "    # FC Salida OUTPUT\n",
        "    FOutput = tf.contrib.layers.fully_connected(A2,21,None)\n",
        "    \n",
        "    \n",
        "    return Z7\n",
        "  \n",
        "# Declarar la operación que aplica el MLP usando la información de entrada\n",
        "logits = multilayer_perceptron(X2, parameters)"
      ],
      "execution_count": 0,
      "outputs": []
    },
    {
      "metadata": {
        "id": "Erp9kN841azY",
        "colab_type": "code",
        "outputId": "f05e5622-d009-4990-9dcc-c354fcd5d9aa",
        "colab": {
          "base_uri": "https://localhost:8080/",
          "height": 88
        }
      },
      "cell_type": "code",
      "source": [
        "# Funcion de perdida y optimización \n",
        "# para el entrenamiento.\n",
        "loss_op = tf.losses.softmax_cross_entropy(\n",
        "    onehot_labels=Y,\n",
        "    logits=logits,\n",
        "    weights=1.0,\n",
        "    scope=None,\n",
        "    loss_collection=tf.GraphKeys.LOSSES,\n",
        "    reduction=tf.losses.Reduction.SUM_BY_NONZERO_WEIGHTS\n",
        ")\n",
        "# Optimizador Adam\n",
        "optimizer = tf.train.AdamOptimizer(learning_rate=learning_rate)\n",
        "train_op = optimizer.minimize(loss_op)\n",
        "\n",
        "# Initializing the variables\n",
        "init = tf.global_variables_initializer()"
      ],
      "execution_count": 10,
      "outputs": [
        {
          "output_type": "stream",
          "text": [
            "WARNING:tensorflow:From /usr/local/lib/python3.6/dist-packages/tensorflow/python/ops/losses/losses_impl.py:209: to_float (from tensorflow.python.ops.math_ops) is deprecated and will be removed in a future version.\n",
            "Instructions for updating:\n",
            "Use tf.cast instead.\n"
          ],
          "name": "stdout"
        }
      ]
    },
    {
      "metadata": {
        "id": "mD8EuCPr1gMz",
        "colab_type": "code",
        "colab": {}
      },
      "cell_type": "code",
      "source": [
        "with tf.Session() as sess:\n",
        "    sess.run(init)\n",
        "    print(\"¡Inicio de Pre-entrenamiento!\")\n",
        "    sess.run(model.pretrained())  # equivalent to nets.pretrained(model\n",
        "    print(\"¡Finalización de Pre-entrenamiento!\")\n",
        "    for epoch in range(training_epochs):        \n",
        "        avg_cost = 0.\n",
        "        #obtiene el numero de grupos en que queda dividida la base de datos\n",
        "        total_batch = int(Y_train.shape[0]/batch_size) \n",
        "        print(\"Inicio Epoch:\",epoch,\" For barch: \",total_batch)\n",
        "        \n",
        "        # ciclo para entrenar con cada grupo de datos\n",
        "        losses=[]\n",
        "        for i in range(total_batch-1):\n",
        "            batch_x= X_train[i*batch_size:(i+1)*batch_size]\n",
        "            batch_y= Y_train[i*batch_size:(i+1)*batch_size]\n",
        "            features = model.preprocess(batch_x)\n",
        "            features = sess.run(model.get_middles(), {X: batch_x})[-1]\n",
        "            # Correr la funcion de perdida y la operacion de optimización con la respectiva alimentación del placeholder\n",
        "            _,c =sess.run([train_op, loss_op],feed_dict={X2:features,Y:batch_y})\n",
        "            # Promedio de resultados de la funcion de pérdida\n",
        "            losses.append(c)\n",
        "            avg_cost += c / total_batch\n",
        "        # Mostrar el resultado del entrenamiento por grupos\n",
        "        if epoch % display_step == 0:\n",
        "            print(\"     Epoch:\", '%04d' % (epoch+1), \"cost={:.9f}\".format(avg_cost))\n",
        "    print(\"¡Optimización  Finalizada!\")\n",
        " "
      ],
      "execution_count": 0,
      "outputs": []
    }
  ]
}